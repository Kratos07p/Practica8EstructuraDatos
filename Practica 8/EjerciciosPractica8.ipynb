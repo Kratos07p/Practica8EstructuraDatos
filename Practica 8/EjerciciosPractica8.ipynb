{
 "cells": [
  {
   "cell_type": "code",
   "execution_count": null,
   "metadata": {},
   "outputs": [],
   "source": [
    "'''Escribe un programa que abra un archivo de texto llamado \"archivo.txt\" en modo\n",
    "lectura, lo lea línea por línea y lo muestre en la pantalla.'''\n",
    "\n",
    "with open('archivo.txt', 'r') as file:\n",
    "    for line in file:\n",
    "        print(line.strip())\n"
   ]
  },
  {
   "cell_type": "code",
   "execution_count": null,
   "metadata": {},
   "outputs": [],
   "source": [
    "'''Crea un programa que solicite al usuario que ingrese una serie de nombres y escriba\n",
    "esos nombres en un archivo llamado \"nombres.txt\", uno por línea.'''\n",
    "\n",
    "nombres = []\n",
    "while True:\n",
    "    nombre = input(\"Ingrese el nombre o escriba 'Listo' para terminar: \")\n",
    "    if nombre == \"Listo\":\n",
    "        break\n",
    "    nombres.append(nombre)\n",
    "\n",
    "# Ingresar los nombres en el archivo\n",
    "with open(\"nombres.txt\", \"w\") as archivo:\n",
    "    for nombre in nombres:\n",
    "        archivo.write(nombre + \"\\n\")"
   ]
  },
  {
   "cell_type": "code",
   "execution_count": null,
   "metadata": {},
   "outputs": [],
   "source": [
    "'''Manejo de excepciones Escribe un programa que intente abrir un archivo que no existe\n",
    "(por ejemplo, \"archivo_inexistente.txt\"). Implementa el manejo de la excepción FileNotFoundError\n",
    "para mostrar un mensaje amigable al usuario en caso de que el archivo no se encuentre.'''\n",
    "\n",
    "try:\n",
    "    with open(\"archivo_inexistente.txt\", \"r\") as file:\n",
    "        content = file.read()\n",
    "except FileNotFoundError:\n",
    "    print(\"El archivo no se existe.\")\n"
   ]
  }
 ],
 "metadata": {
  "language_info": {
   "name": "python"
  },
  "orig_nbformat": 4
 },
 "nbformat": 4,
 "nbformat_minor": 2
}
